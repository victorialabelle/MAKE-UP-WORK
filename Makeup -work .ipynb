{
 "cells": [
  {
   "cell_type": "markdown",
   "id": "35e0e32d",
   "metadata": {},
   "source": [
    "Question 1\n",
    "Complete the following functions, following the algorithms in Cormen et al. The function find_lcs is the main function that will be used to find the LCS between two strings (please note that these are the same functions whose pseudocode appear in Cormen et al; the names here are slightly different to make their purpose clearer). \n",
    "\n",
    "find_lcs uses lcs_tables and reconstruct_lcs, that you will need to complete as well.\n",
    "\n"
   ]
  },
  {
   "cell_type": "code",
   "execution_count": 7,
   "id": "9ba7846f",
   "metadata": {},
   "outputs": [
    {
     "ename": "NameError",
     "evalue": "name 'b' is not defined",
     "output_type": "error",
     "traceback": [
      "\u001b[0;31m---------------------------------------------------------------------------\u001b[0m",
      "\u001b[0;31mNameError\u001b[0m                                 Traceback (most recent call last)",
      "\u001b[0;32m/var/folders/53/vwsmzr9x37d6z26255m11llw0000gn/T/ipykernel_34655/1820797678.py\u001b[0m in \u001b[0;36m<module>\u001b[0;34m\u001b[0m\n\u001b[1;32m     87\u001b[0m \u001b[0;31m#### testing your code\u001b[0m\u001b[0;34m\u001b[0m\u001b[0;34m\u001b[0m\u001b[0m\n\u001b[1;32m     88\u001b[0m \u001b[0mx1\u001b[0m\u001b[0;34m,\u001b[0m \u001b[0my1\u001b[0m \u001b[0;34m=\u001b[0m \u001b[0;34m'ambgdec'\u001b[0m\u001b[0;34m,\u001b[0m \u001b[0;34m'aubyci'\u001b[0m\u001b[0;34m\u001b[0m\u001b[0;34m\u001b[0m\u001b[0m\n\u001b[0;32m---> 89\u001b[0;31m \u001b[0;32massert\u001b[0m\u001b[0;34m(\u001b[0m\u001b[0mfind_lcs\u001b[0m\u001b[0;34m(\u001b[0m\u001b[0mx1\u001b[0m\u001b[0;34m,\u001b[0m \u001b[0my1\u001b[0m\u001b[0;34m)\u001b[0m \u001b[0;34m==\u001b[0m \u001b[0;34m(\u001b[0m\u001b[0;34m[\u001b[0m\u001b[0;34m'a'\u001b[0m\u001b[0;34m,\u001b[0m \u001b[0;34m'b'\u001b[0m\u001b[0;34m,\u001b[0m \u001b[0;34m'c'\u001b[0m\u001b[0;34m]\u001b[0m\u001b[0;34m,\u001b[0m \u001b[0;36m3\u001b[0m\u001b[0;34m)\u001b[0m\u001b[0;34m)\u001b[0m\u001b[0;34m\u001b[0m\u001b[0;34m\u001b[0m\u001b[0m\n\u001b[0m\u001b[1;32m     90\u001b[0m \u001b[0;34m\u001b[0m\u001b[0m\n\u001b[1;32m     91\u001b[0m \u001b[0mx2\u001b[0m\u001b[0;34m,\u001b[0m \u001b[0my2\u001b[0m \u001b[0;34m=\u001b[0m \u001b[0;34m'xyqwsssazdesaqqf'\u001b[0m\u001b[0;34m,\u001b[0m \u001b[0;34m'xoppoypllzookjdef'\u001b[0m\u001b[0;34m\u001b[0m\u001b[0;34m\u001b[0m\u001b[0m\n",
      "\u001b[0;32m/var/folders/53/vwsmzr9x37d6z26255m11llw0000gn/T/ipykernel_34655/1820797678.py\u001b[0m in \u001b[0;36mfind_lcs\u001b[0;34m(x, y)\u001b[0m\n\u001b[1;32m     81\u001b[0m     '''\n\u001b[1;32m     82\u001b[0m     \u001b[0mlst\u001b[0m \u001b[0;34m=\u001b[0m \u001b[0;34m[\u001b[0m\u001b[0;34m]\u001b[0m\u001b[0;34m\u001b[0m\u001b[0;34m\u001b[0m\u001b[0m\n\u001b[0;32m---> 83\u001b[0;31m     \u001b[0mlst\u001b[0m \u001b[0;34m=\u001b[0m \u001b[0mreconstruct_lcs\u001b[0m\u001b[0;34m(\u001b[0m\u001b[0mb\u001b[0m\u001b[0;34m,\u001b[0m \u001b[0mx\u001b[0m\u001b[0;34m,\u001b[0m \u001b[0mi\u001b[0m \u001b[0;34m+\u001b[0m \u001b[0;36m1\u001b[0m\u001b[0;34m,\u001b[0m \u001b[0mj\u001b[0m \u001b[0;34m+\u001b[0m \u001b[0;36m1\u001b[0m\u001b[0;34m,\u001b[0m \u001b[0mlst\u001b[0m\u001b[0;34m)\u001b[0m\u001b[0;34m\u001b[0m\u001b[0;34m\u001b[0m\u001b[0m\n\u001b[0m\u001b[1;32m     84\u001b[0m     \u001b[0mprint\u001b[0m\u001b[0;34m(\u001b[0m\u001b[0mlst\u001b[0m\u001b[0;34m)\u001b[0m\u001b[0;34m\u001b[0m\u001b[0;34m\u001b[0m\u001b[0m\n\u001b[1;32m     85\u001b[0m     \u001b[0;32mreturn\u001b[0m \u001b[0mlst\u001b[0m\u001b[0;34m,\u001b[0m \u001b[0mlen\u001b[0m\u001b[0;34m(\u001b[0m\u001b[0mlst\u001b[0m\u001b[0;34m)\u001b[0m\u001b[0;34m\u001b[0m\u001b[0;34m\u001b[0m\u001b[0m\n",
      "\u001b[0;31mNameError\u001b[0m: name 'b' is not defined"
     ]
    }
   ],
   "source": [
    "def lcs_tables(x, y):\n",
    "    \"\"\"\n",
    "    This is equivalent to LCS-LENGTH from Cormen et al \n",
    "    (we have just changed the name so that the purpose of the function is clearer).\n",
    "    It computes the b and c tables required to read-off an LCS of strings x and y.\n",
    "    \n",
    "    Inputs:\n",
    "    - x, y: strings\n",
    "    \n",
    "    Outputs:\n",
    "    - c: a list of lists of ints OR a numpy array. c[i,j] contains the \n",
    "    length of a LCS of x[:i] and y[:j]\n",
    "    - b: a list of lists of strings OR a numpy array, containing the information\n",
    "    used for LCS reconstruction (See Cormen et al.) Use \"N\" (North), \"NW\" \n",
    "    (North West), and \"W\" (West) that correspond to the directions of the arrows \n",
    "    used in Cormen et al.\n",
    "    \"\"\"\n",
    "    # Calculate the length of the string\n",
    "    m = len(x)\n",
    "    n = len(y)\n",
    "\n",
    "    b = [[0 for _ in range(n + 1)] for _ in range(m + 1)]\n",
    "    c = [[0 for _ in range(n+1)] for _ in range(m + 1)]\n",
    "\n",
    "    for i in range(m + 1):\n",
    "        for j in range(n + 1):\n",
    "            if i == 0 or j == 0:\n",
    "                continue\n",
    "            elif x[i - 1] == y[j - 1]:\n",
    "                c[i][j] = c[i - 1][j - 1] + 1\n",
    "                b[i][j] = \"NW\"\n",
    "            elif c[i - 1][j] >= c[i][j - 1]:\n",
    "                c[i][j] = c[i - 1][j]\n",
    "                b[i][j] = \"N\"\n",
    "            else:\n",
    "                c[i][j] = c[i][j - 1]\n",
    "                b[i][j] = \"W\"\n",
    "        return c, b\n",
    "\n",
    "\n",
    "def reconstruct_lcs(b, x, i, j, lst):\n",
    "    \"\"\"\n",
    "    This is equivalent to PRINT-LCS from Cormen et al \n",
    "    (we have just changed the name so that the purpose of the function is clearer).\n",
    "    Reconstructs the elements of the LCS given the b table computed via lcs_tables.\n",
    "    \n",
    "    Inputs:\n",
    "    - b: a list of lists of strings OR a numpy array, returned by lcs_length\n",
    "    - x: string, an input to lcs_length\n",
    "    - i, j: ints. print_lcs(b,x,i,j) returns a lcs of x[:i] and y[:j], where y\n",
    "    is an input to lcs_length.\n",
    "    \n",
    "    Outputs:\n",
    "    - tuple of:\n",
    "        - lcs: list of strings, representing a LCS of x and y\n",
    "        - length: int, the length of the LCS\n",
    "    \"\"\"    \n",
    "    if i == 0 or j == 0:\n",
    "        return\n",
    "    if b[i][j] == \"NW\":\n",
    "        recursive_lcs(b, x, i - 1, j - 1, lst)\n",
    "        lst.append(x[i - 1])\n",
    "    elif b[i][j] == \"N\":\n",
    "        recursive_lcs(b, x, i-1, j, lst)\n",
    "    else:\n",
    "        recursive_lcs(b, x, i, j - 1, lst)\n",
    "    return lst\n",
    "\n",
    "\n",
    "def find_lcs(x, y):\n",
    "    '''\n",
    "    Calls lcs_tables and reconstruct_lcs to return a tuple of the LCS of x and y.\n",
    "    If either x or y are empty, it should return (None, 0)\n",
    "    Inputs:\n",
    "    - x, y: strings\n",
    "    \n",
    "    Output:\n",
    "    - tuple of:\n",
    "        - lcs: list of strings, representing a LCS of x and y\n",
    "        - length: int, the length of the LCS  \n",
    "    '''\n",
    "    lst = []\n",
    "    lst = reconstruct_lcs(b, x, i + 1, j + 1, lst)\n",
    "    print(lst)\n",
    "    return lst, len(lst)\n",
    "    \n",
    "#### testing your code\n",
    "x1, y1 = 'ambgdec', 'aubyci'\n",
    "assert(find_lcs(x1, y1) == (['a', 'b', 'c'], 3))\n",
    "\n",
    "x2, y2 = 'xyqwsssazdesaqqf', 'xoppoypllzookjdef'\n",
    "assert(find_lcs(x2, y2) == (['x', 'y', 'z', 'd', 'e', 'f'], 6))"
   ]
  },
  {
   "cell_type": "markdown",
   "id": "fd1bac6a",
   "metadata": {},
   "source": [
    "Question 2\n",
    "The LCS algorithm can be applied to strings of characters and strings of numbers alike. What is the LCS between '10010101' and '010110110' ? Answer this question by manual inspection and then use the code you have written above to find out if you're correct or not. \n",
    "\n"
   ]
  },
  {
   "cell_type": "code",
   "execution_count": null,
   "id": "81b2a93b",
   "metadata": {},
   "outputs": [],
   "source": []
  },
  {
   "cell_type": "markdown",
   "id": "b2220676",
   "metadata": {},
   "source": [
    "Question 3 [adapted from Exercise 15-4.5 Cormen et al.]\n",
    "Write the code for the function lmis below that finds the Longest Monotonically Increasing Subsequence (LMIS) of a list (lst) of n numbers in O(n^2) time. Note that a monotonically increasing sequence is a sequence of numbers such that: a_1 <= a_2 <= ... <= a_n. \n",
    "\n",
    "\n",
    "\n",
    "Hint: no need to reinvent the wheel to solve this problem! How would you go about using the previously written code to find a solution to this problem? Be prepared to run your code in class to answer a poll question. "
   ]
  },
  {
   "cell_type": "code",
   "execution_count": 8,
   "id": "8806e1a7",
   "metadata": {},
   "outputs": [
    {
     "ename": "NameError",
     "evalue": "name 'lcs_length' is not defined",
     "output_type": "error",
     "traceback": [
      "\u001b[0;31m---------------------------------------------------------------------------\u001b[0m",
      "\u001b[0;31mNameError\u001b[0m                                 Traceback (most recent call last)",
      "\u001b[0;32m/var/folders/53/vwsmzr9x37d6z26255m11llw0000gn/T/ipykernel_34655/2242176655.py\u001b[0m in \u001b[0;36m<module>\u001b[0;34m\u001b[0m\n\u001b[1;32m     16\u001b[0m \u001b[0;34m\u001b[0m\u001b[0m\n\u001b[1;32m     17\u001b[0m \u001b[0;34m\u001b[0m\u001b[0m\n\u001b[0;32m---> 18\u001b[0;31m \u001b[0;32massert\u001b[0m\u001b[0;34m(\u001b[0m\u001b[0mlmis\u001b[0m\u001b[0;34m(\u001b[0m\u001b[0;34m[\u001b[0m\u001b[0;36m5\u001b[0m\u001b[0;34m,\u001b[0m \u001b[0;36m1\u001b[0m\u001b[0;34m,\u001b[0m \u001b[0;36m0\u001b[0m\u001b[0;34m,\u001b[0m \u001b[0;36m4\u001b[0m\u001b[0;34m,\u001b[0m \u001b[0;36m2\u001b[0m\u001b[0;34m,\u001b[0m \u001b[0;36m6\u001b[0m\u001b[0;34m,\u001b[0m \u001b[0;36m7\u001b[0m\u001b[0;34m,\u001b[0m \u001b[0;36m9\u001b[0m\u001b[0;34m]\u001b[0m\u001b[0;34m)\u001b[0m \u001b[0;34m==\u001b[0m \u001b[0;34m[\u001b[0m\u001b[0;36m1\u001b[0m\u001b[0;34m,\u001b[0m \u001b[0;36m4\u001b[0m\u001b[0;34m,\u001b[0m \u001b[0;36m6\u001b[0m\u001b[0;34m,\u001b[0m \u001b[0;36m7\u001b[0m\u001b[0;34m,\u001b[0m \u001b[0;36m9\u001b[0m\u001b[0;34m]\u001b[0m\u001b[0;34m)\u001b[0m\u001b[0;34m\u001b[0m\u001b[0;34m\u001b[0m\u001b[0m\n\u001b[0m\u001b[1;32m     19\u001b[0m \u001b[0;32massert\u001b[0m\u001b[0;34m(\u001b[0m\u001b[0mlmis\u001b[0m\u001b[0;34m(\u001b[0m\u001b[0;34m[\u001b[0m\u001b[0;36m6\u001b[0m\u001b[0;34m,\u001b[0m \u001b[0;34m-\u001b[0m\u001b[0;36m1\u001b[0m\u001b[0;34m,\u001b[0m \u001b[0;36m4\u001b[0m\u001b[0;34m,\u001b[0m \u001b[0;36m5\u001b[0m\u001b[0;34m,\u001b[0m \u001b[0;36m5\u001b[0m\u001b[0;34m,\u001b[0m \u001b[0;36m7\u001b[0m\u001b[0;34m,\u001b[0m \u001b[0;34m-\u001b[0m\u001b[0;36m6\u001b[0m\u001b[0;34m,\u001b[0m \u001b[0;36m2\u001b[0m\u001b[0;34m]\u001b[0m\u001b[0;34m)\u001b[0m \u001b[0;34m==\u001b[0m \u001b[0;34m[\u001b[0m\u001b[0;34m-\u001b[0m\u001b[0;36m1\u001b[0m\u001b[0;34m,\u001b[0m \u001b[0;36m4\u001b[0m\u001b[0;34m,\u001b[0m \u001b[0;36m5\u001b[0m\u001b[0;34m,\u001b[0m \u001b[0;36m5\u001b[0m\u001b[0;34m,\u001b[0m \u001b[0;36m7\u001b[0m\u001b[0;34m]\u001b[0m\u001b[0;34m)\u001b[0m\u001b[0;34m\u001b[0m\u001b[0;34m\u001b[0m\u001b[0m\n",
      "\u001b[0;32m/var/folders/53/vwsmzr9x37d6z26255m11llw0000gn/T/ipykernel_34655/2242176655.py\u001b[0m in \u001b[0;36mlmis\u001b[0;34m(lst)\u001b[0m\n\u001b[1;32m     11\u001b[0m     \"\"\"\n\u001b[1;32m     12\u001b[0m     \u001b[0msorted_lst\u001b[0m \u001b[0;34m=\u001b[0m \u001b[0msorted\u001b[0m\u001b[0;34m(\u001b[0m\u001b[0mlst\u001b[0m\u001b[0;34m)\u001b[0m\u001b[0;34m\u001b[0m\u001b[0;34m\u001b[0m\u001b[0m\n\u001b[0;32m---> 13\u001b[0;31m     \u001b[0mc\u001b[0m\u001b[0;34m,\u001b[0m \u001b[0mb\u001b[0m \u001b[0;34m=\u001b[0m \u001b[0mlcs_length\u001b[0m\u001b[0;34m(\u001b[0m\u001b[0mlst\u001b[0m\u001b[0;34m,\u001b[0m \u001b[0msorted_lst\u001b[0m\u001b[0;34m)\u001b[0m\u001b[0;34m\u001b[0m\u001b[0;34m\u001b[0m\u001b[0m\n\u001b[0m\u001b[1;32m     14\u001b[0m     \u001b[0mlmis\u001b[0m \u001b[0;34m=\u001b[0m \u001b[0mprint_lcs\u001b[0m\u001b[0;34m(\u001b[0m\u001b[0mb\u001b[0m\u001b[0;34m,\u001b[0m \u001b[0mlst\u001b[0m\u001b[0;34m,\u001b[0m \u001b[0mlen\u001b[0m\u001b[0;34m(\u001b[0m\u001b[0mlst\u001b[0m\u001b[0;34m)\u001b[0m \u001b[0;34m-\u001b[0m \u001b[0;36m1\u001b[0m\u001b[0;34m,\u001b[0m \u001b[0mlen\u001b[0m\u001b[0;34m(\u001b[0m\u001b[0msorted_lst\u001b[0m\u001b[0;34m)\u001b[0m \u001b[0;34m-\u001b[0m \u001b[0;36m1\u001b[0m\u001b[0;34m)\u001b[0m\u001b[0;34m[\u001b[0m\u001b[0;36m0\u001b[0m\u001b[0;34m]\u001b[0m\u001b[0;34m\u001b[0m\u001b[0;34m\u001b[0m\u001b[0m\n\u001b[1;32m     15\u001b[0m     \u001b[0;32mreturn\u001b[0m \u001b[0mlmis\u001b[0m\u001b[0;34m\u001b[0m\u001b[0;34m\u001b[0m\u001b[0m\n",
      "\u001b[0;31mNameError\u001b[0m: name 'lcs_length' is not defined"
     ]
    }
   ],
   "source": [
    "def lmis(lst):\n",
    "    \"\"\"\n",
    "    Finds the Longest Monotonically Increasing Subsequence (LMIS) of a list \n",
    " \n",
    "    Inputs:\n",
    "    - lst: a list of ints\n",
    "    \n",
    "    Outputs:\n",
    "    - out_lst: a list of ints, a longest monotonically increasing subsequence\n",
    "    of lst\n",
    "    \"\"\"\n",
    "    sorted_lst = sorted(lst)\n",
    "    c, b = lcs_length(lst, sorted_lst)\n",
    "    lmis = print_lcs(b, lst, len(lst) - 1, len(sorted_lst) - 1)[0]\n",
    "    return lmis\n",
    "    \n",
    "    \n",
    "assert(lmis([5, 1, 0, 4, 2, 6, 7, 9]) == [1, 4, 6, 7, 9])\n",
    "assert(lmis([6, -1, 4, 5, 5, 7, -6, 2]) == [-1, 4, 5, 5, 7])"
   ]
  },
  {
   "cell_type": "markdown",
   "id": "ab822114",
   "metadata": {},
   "source": [
    "Question 4\n",
    "How would you devise a greedy algorithm to compute the longest common subsequence in a string? Explain your strategy step by step, and comment on any advantages/limitations over the dynamic programming approach. Provide a few test cases to check the validity of the greedy approach."
   ]
  },
  {
   "cell_type": "markdown",
   "id": "24f9bc76",
   "metadata": {},
   "source": [
    "I would:\n",
    "\n",
    "1. Start from the first letter of the first string\n",
    "2. Start comparing the letter of the first string with the letter of the second string.\n",
    "3. If they are equal, append them to the return string. If they are not equal, move on to the 2nd letter of the first string.\n",
    "4. Repeat step 2 and 3 until the end of either of the strings.\n",
    "\n",
    "Advantages:\n",
    "O(n) where n is the length of the longer substring. \n",
    "Limitations:\n",
    "The dynamic soliution would bring us to the more optimal solution. \n",
    "Possible tests: empty string, maybe string and integers & special characters?"
   ]
  },
  {
   "cell_type": "code",
   "execution_count": null,
   "id": "6d0a56bb",
   "metadata": {},
   "outputs": [],
   "source": []
  }
 ],
 "metadata": {
  "kernelspec": {
   "display_name": "Python 3 (ipykernel)",
   "language": "python",
   "name": "python3"
  },
  "language_info": {
   "codemirror_mode": {
    "name": "ipython",
    "version": 3
   },
   "file_extension": ".py",
   "mimetype": "text/x-python",
   "name": "python",
   "nbconvert_exporter": "python",
   "pygments_lexer": "ipython3",
   "version": "3.9.7"
  }
 },
 "nbformat": 4,
 "nbformat_minor": 5
}
